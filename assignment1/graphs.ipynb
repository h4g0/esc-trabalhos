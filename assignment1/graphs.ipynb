{
 "cells": [
  {
   "cell_type": "markdown",
   "metadata": {},
   "source": [
    "## Jupyter notebook to create graphs using data from different linux monitoring tools"
   ]
  },
  {
   "cell_type": "code",
   "execution_count": 1,
   "metadata": {},
   "outputs": [],
   "source": [
    "import matplotlib.pyplot as plt\n",
    "import fileinput\n",
    "import numpy as np\n",
    "import re"
   ]
  },
  {
   "cell_type": "code",
   "execution_count": 2,
   "metadata": {},
   "outputs": [],
   "source": [
    "def read_file(file_name):\n",
    "    lines = list()\n",
    "    for line in fileinput.input(file_name):\n",
    "        lines.append(line)\n",
    "    return lines"
   ]
  },
  {
   "cell_type": "code",
   "execution_count": 3,
   "metadata": {},
   "outputs": [],
   "source": [
    "def get_tests(lines):\n",
    "    test = list()\n",
    "    tests = list()\n",
    "    \n",
    "    for i in lines:\n",
    "        if len(re.findall(\"#test\",i)) > 0:\n",
    "            tests.append(test)\n",
    "            test = list()\n",
    "        else:\n",
    "            test.append(i)\n",
    "            \n",
    "    tests.append(test)\n",
    "    \n",
    "    return tests[:4]"
   ]
  },
  {
   "cell_type": "code",
   "execution_count": 4,
   "metadata": {},
   "outputs": [],
   "source": [
    "def get_memory_values(lines):\n",
    "    kbmemused = list()\n",
    "    memusedpercent = list()\n",
    "    for i in lines:\n",
    "        _,_,_,kbmemused_,memusedpercent_,_,_,_,_ = i.rstrip().split()\n",
    "        kbmemused.append(float(kbmemused_))\n",
    "        memusedpercent.append(float(memusedpercent_))\n",
    "        \n",
    "    return (kbmemused,memusedpercent)"
   ]
  },
  {
   "cell_type": "code",
   "execution_count": 5,
   "metadata": {},
   "outputs": [],
   "source": [
    "def get_memory(lines):    \n",
    "    kbs = list()\n",
    "    percents = list()\n",
    "    for i in get_tests(lines):\n",
    "        kbmemused,memusedpercent = get_memory_values(i)\n",
    "        kbmemused,memusedpercent = (max(kbmemused),max(memusedpercent))\n",
    "        kbs.append(kbmemused)\n",
    "        percents.append(memusedpercent)\n",
    "        \n",
    "    kbs = sorted(kbs)\n",
    "    percents = sorted(percents)\n",
    "    \n",
    "    \n",
    "    return (sum(kbs[:3])/3,sum(percents[:3])/3)"
   ]
  },
  {
   "cell_type": "code",
   "execution_count": 6,
   "metadata": {},
   "outputs": [],
   "source": [
    "def get_cpu_times(lines,repetitions):\n",
    "    idle = list()\n",
    "    iowait = list()\n",
    "    for i in lines:\n",
    "        _,_,_,_,_,_,iowait_,_,idle_= i.rstrip().split()\n",
    "        iowait.append(float(iowait_))\n",
    "        idle.append(float(idle_))\n",
    "    \n",
    "    return (idle,iowait)"
   ]
  },
  {
   "cell_type": "code",
   "execution_count": 17,
   "metadata": {},
   "outputs": [],
   "source": [
    "def get_cpu(lines,repetitions):\n",
    "    totals = list()\n",
    "    idles = list()\n",
    "    iowaits = list()\n",
    "    for i in get_tests(lines):\n",
    "        idle,iowait = get_cpu_times(i,repetitions)\n",
    "        total,idle,iowait = (float(len(i))/repetitions,sum(idle)*0.01/repetitions,sum(iowait)*0.01/repetitions)\n",
    "        totals.append(total)\n",
    "        idles.append(idle)\n",
    "        iowaits.append(iowait)\n",
    "    \n",
    "    print(totals)\n",
    "    totals = sorted(totals)\n",
    "    idles = sorted(idles)\n",
    "    iowaits = sorted(iowaits)\n",
    "    return (sum(totals[:3])/3,sum(idles[:3])/3,sum(iowaits[:3])/3)\n",
    "    "
   ]
  },
  {
   "cell_type": "code",
   "execution_count": 18,
   "metadata": {},
   "outputs": [],
   "source": [
    "def get_io_values(lines):\n",
    "    tps = list()\n",
    "    breads = list()\n",
    "    bwrtns = list()\n",
    "    for i in lines:\n",
    "        _,_,tps_,_,_,breads_,bwrtns_ = i.rstrip().split()\n",
    "        tps.append(float(tps_))\n",
    "        breads.append(float(breads_))\n",
    "        bwrtns.append(float(bwrtns_))\n",
    "        \n",
    "    return (tps,breads,bwrtns)"
   ]
  },
  {
   "cell_type": "code",
   "execution_count": 19,
   "metadata": {},
   "outputs": [],
   "source": [
    "def get_io(lines):\n",
    "    network = list()\n",
    "    disk = list()\n",
    "    for i in get_tests(lines):\n",
    "        tps,breads,bwrtns = get_io_values(i)\n",
    "        tps,bwreads  = (sum(tps),sum(breads) + sum(bwrtns) )\n",
    "        network.append(tps)\n",
    "        disk.append(bwreads)\n",
    "    \n",
    "    network = sorted(network)\n",
    "    disk = sorted(disk)\n",
    "    \n",
    "    return (sum(network)/3,sum(disk)/3)"
   ]
  },
  {
   "cell_type": "code",
   "execution_count": 20,
   "metadata": {},
   "outputs": [],
   "source": [
    "def create_graphs_cpu_part1(gnuO1,gnuO2,gnuO3,intelO1,intelO2,intelO3,repetitions,graph=\"time\",ybottom=0):\n",
    "    gnuO1 = read_file(gnuO1)[3:]\n",
    "    gnuO2 = read_file(gnuO2)[3:]\n",
    "    gnuO3 = read_file(gnuO3)[3:]\n",
    "    intelO1 = read_file(intelO1)[3:]\n",
    "    intelO2 = read_file(intelO2)[3:]\n",
    "    intelO3 = read_file(intelO3)[3:]\n",
    "    \n",
    "    gO1time,gO1idle,gO1iowait = get_cpu(gnuO1,repetitions)\n",
    "    gO2time,gO2idle,gO2iowait = get_cpu(gnuO2,repetitions)\n",
    "    gO3time,gO3idle,gO3iowait = get_cpu(gnuO3,repetitions)\n",
    "    \n",
    "    \n",
    "    iO1time,iO1idle,iO1iowait = get_cpu(intelO1,repetitions)\n",
    "    iO2time,iO2idle,iO2iowait = get_cpu(intelO2,repetitions)\n",
    "    iO3time,iO3idle,iO3iowait = get_cpu(intelO3,repetitions)\n",
    "\n",
    "    \n",
    "    \n",
    "    x = np.arange(6)\n",
    "    \n",
    "    \n",
    "    time = [gO1time,gO2time,gO3time,iO1time,iO2time,iO3time]\n",
    "    idle = [gO1idle,gO2idle,gO3idle,iO1idle,iO2idle,iO3idle]\n",
    "    iowait = [gO1iowait,gO2iowait,gO3iowait,iO1iowait,iO2iowait,iO3iowait]\n",
    "\n",
    "    if(graph == \"time\"):\n",
    "        values = time\n",
    "    if(graph == \"idle\"):\n",
    "        values = idle\n",
    "    if(graph == \"iowait\"):\n",
    "        values = iowait\n",
    "        \n",
    "    print(values)\n",
    "\n",
    "    fig, ax = plt.subplots()\n",
    "   \n",
    "    plt.bar(x,values)\n",
    "    if(ybottom != 0):\n",
    "        ax.set_ylim(bottom=ybottom)\n",
    "    plt.xticks(x,(\"gnuO1\",\"gnuO2\",\"gnuO3\",\"intelO1\",\"intelO2\",\"intelO3\"))\n",
    "    plt.show()\n",
    "    "
   ]
  },
  {
   "cell_type": "code",
   "execution_count": 41,
   "metadata": {
    "scrolled": true
   },
   "outputs": [
    {
     "ename": "FileNotFoundError",
     "evalue": "[Errno 2] No such file or directory: 'tests/ser/cpu/is.D.gnuO1.txt'",
     "output_type": "error",
     "traceback": [
      "\u001b[1;31m---------------------------------------------------------------------------\u001b[0m",
      "\u001b[1;31mFileNotFoundError\u001b[0m                         Traceback (most recent call last)",
      "\u001b[1;32m<ipython-input-41-b758c47cc5b5>\u001b[0m in \u001b[0;36m<module>\u001b[1;34m\u001b[0m\n\u001b[0;32m      7\u001b[0m                        \u001b[1;36m1\u001b[0m\u001b[1;33m,\u001b[0m\u001b[1;33m\u001b[0m\u001b[1;33m\u001b[0m\u001b[0m\n\u001b[0;32m      8\u001b[0m                        \u001b[1;34m\"time\"\u001b[0m\u001b[1;33m,\u001b[0m\u001b[1;33m\u001b[0m\u001b[1;33m\u001b[0m\u001b[0m\n\u001b[1;32m----> 9\u001b[1;33m                         \u001b[0mybottom\u001b[0m\u001b[1;33m=\u001b[0m\u001b[1;36m0\u001b[0m\u001b[1;33m\u001b[0m\u001b[1;33m\u001b[0m\u001b[0m\n\u001b[0m\u001b[0;32m     10\u001b[0m                        )\n",
      "\u001b[1;32m<ipython-input-20-5fd8642da2e6>\u001b[0m in \u001b[0;36mcreate_graphs_cpu_part1\u001b[1;34m(gnuO1, gnuO2, gnuO3, intelO1, intelO2, intelO3, repetitions, graph, ybottom)\u001b[0m\n\u001b[0;32m      1\u001b[0m \u001b[1;32mdef\u001b[0m \u001b[0mcreate_graphs_cpu_part1\u001b[0m\u001b[1;33m(\u001b[0m\u001b[0mgnuO1\u001b[0m\u001b[1;33m,\u001b[0m\u001b[0mgnuO2\u001b[0m\u001b[1;33m,\u001b[0m\u001b[0mgnuO3\u001b[0m\u001b[1;33m,\u001b[0m\u001b[0mintelO1\u001b[0m\u001b[1;33m,\u001b[0m\u001b[0mintelO2\u001b[0m\u001b[1;33m,\u001b[0m\u001b[0mintelO3\u001b[0m\u001b[1;33m,\u001b[0m\u001b[0mrepetitions\u001b[0m\u001b[1;33m,\u001b[0m\u001b[0mgraph\u001b[0m\u001b[1;33m=\u001b[0m\u001b[1;34m\"time\"\u001b[0m\u001b[1;33m,\u001b[0m\u001b[0mybottom\u001b[0m\u001b[1;33m=\u001b[0m\u001b[1;36m0\u001b[0m\u001b[1;33m)\u001b[0m\u001b[1;33m:\u001b[0m\u001b[1;33m\u001b[0m\u001b[1;33m\u001b[0m\u001b[0m\n\u001b[1;32m----> 2\u001b[1;33m     \u001b[0mgnuO1\u001b[0m \u001b[1;33m=\u001b[0m \u001b[0mread_file\u001b[0m\u001b[1;33m(\u001b[0m\u001b[0mgnuO1\u001b[0m\u001b[1;33m)\u001b[0m\u001b[1;33m[\u001b[0m\u001b[1;36m3\u001b[0m\u001b[1;33m:\u001b[0m\u001b[1;33m]\u001b[0m\u001b[1;33m\u001b[0m\u001b[1;33m\u001b[0m\u001b[0m\n\u001b[0m\u001b[0;32m      3\u001b[0m     \u001b[0mgnuO2\u001b[0m \u001b[1;33m=\u001b[0m \u001b[0mread_file\u001b[0m\u001b[1;33m(\u001b[0m\u001b[0mgnuO2\u001b[0m\u001b[1;33m)\u001b[0m\u001b[1;33m[\u001b[0m\u001b[1;36m3\u001b[0m\u001b[1;33m:\u001b[0m\u001b[1;33m]\u001b[0m\u001b[1;33m\u001b[0m\u001b[1;33m\u001b[0m\u001b[0m\n\u001b[0;32m      4\u001b[0m     \u001b[0mgnuO3\u001b[0m \u001b[1;33m=\u001b[0m \u001b[0mread_file\u001b[0m\u001b[1;33m(\u001b[0m\u001b[0mgnuO3\u001b[0m\u001b[1;33m)\u001b[0m\u001b[1;33m[\u001b[0m\u001b[1;36m3\u001b[0m\u001b[1;33m:\u001b[0m\u001b[1;33m]\u001b[0m\u001b[1;33m\u001b[0m\u001b[1;33m\u001b[0m\u001b[0m\n\u001b[0;32m      5\u001b[0m     \u001b[0mintelO1\u001b[0m \u001b[1;33m=\u001b[0m \u001b[0mread_file\u001b[0m\u001b[1;33m(\u001b[0m\u001b[0mintelO1\u001b[0m\u001b[1;33m)\u001b[0m\u001b[1;33m[\u001b[0m\u001b[1;36m3\u001b[0m\u001b[1;33m:\u001b[0m\u001b[1;33m]\u001b[0m\u001b[1;33m\u001b[0m\u001b[1;33m\u001b[0m\u001b[0m\n",
      "\u001b[1;32m<ipython-input-2-8356857d1745>\u001b[0m in \u001b[0;36mread_file\u001b[1;34m(file_name)\u001b[0m\n\u001b[0;32m      1\u001b[0m \u001b[1;32mdef\u001b[0m \u001b[0mread_file\u001b[0m\u001b[1;33m(\u001b[0m\u001b[0mfile_name\u001b[0m\u001b[1;33m)\u001b[0m\u001b[1;33m:\u001b[0m\u001b[1;33m\u001b[0m\u001b[1;33m\u001b[0m\u001b[0m\n\u001b[0;32m      2\u001b[0m     \u001b[0mlines\u001b[0m \u001b[1;33m=\u001b[0m \u001b[0mlist\u001b[0m\u001b[1;33m(\u001b[0m\u001b[1;33m)\u001b[0m\u001b[1;33m\u001b[0m\u001b[1;33m\u001b[0m\u001b[0m\n\u001b[1;32m----> 3\u001b[1;33m     \u001b[1;32mfor\u001b[0m \u001b[0mline\u001b[0m \u001b[1;32min\u001b[0m \u001b[0mfileinput\u001b[0m\u001b[1;33m.\u001b[0m\u001b[0minput\u001b[0m\u001b[1;33m(\u001b[0m\u001b[0mfile_name\u001b[0m\u001b[1;33m)\u001b[0m\u001b[1;33m:\u001b[0m\u001b[1;33m\u001b[0m\u001b[1;33m\u001b[0m\u001b[0m\n\u001b[0m\u001b[0;32m      4\u001b[0m         \u001b[0mlines\u001b[0m\u001b[1;33m.\u001b[0m\u001b[0mappend\u001b[0m\u001b[1;33m(\u001b[0m\u001b[0mline\u001b[0m\u001b[1;33m)\u001b[0m\u001b[1;33m\u001b[0m\u001b[1;33m\u001b[0m\u001b[0m\n\u001b[0;32m      5\u001b[0m     \u001b[1;32mreturn\u001b[0m \u001b[0mlines\u001b[0m\u001b[1;33m\u001b[0m\u001b[1;33m\u001b[0m\u001b[0m\n",
      "\u001b[1;32m~\\Anaconda3\\lib\\fileinput.py\u001b[0m in \u001b[0;36m__next__\u001b[1;34m(self)\u001b[0m\n\u001b[0;32m    250\u001b[0m     \u001b[1;32mdef\u001b[0m \u001b[0m__next__\u001b[0m\u001b[1;33m(\u001b[0m\u001b[0mself\u001b[0m\u001b[1;33m)\u001b[0m\u001b[1;33m:\u001b[0m\u001b[1;33m\u001b[0m\u001b[1;33m\u001b[0m\u001b[0m\n\u001b[0;32m    251\u001b[0m         \u001b[1;32mwhile\u001b[0m \u001b[1;32mTrue\u001b[0m\u001b[1;33m:\u001b[0m\u001b[1;33m\u001b[0m\u001b[1;33m\u001b[0m\u001b[0m\n\u001b[1;32m--> 252\u001b[1;33m             \u001b[0mline\u001b[0m \u001b[1;33m=\u001b[0m \u001b[0mself\u001b[0m\u001b[1;33m.\u001b[0m\u001b[0m_readline\u001b[0m\u001b[1;33m(\u001b[0m\u001b[1;33m)\u001b[0m\u001b[1;33m\u001b[0m\u001b[1;33m\u001b[0m\u001b[0m\n\u001b[0m\u001b[0;32m    253\u001b[0m             \u001b[1;32mif\u001b[0m \u001b[0mline\u001b[0m\u001b[1;33m:\u001b[0m\u001b[1;33m\u001b[0m\u001b[1;33m\u001b[0m\u001b[0m\n\u001b[0;32m    254\u001b[0m                 \u001b[0mself\u001b[0m\u001b[1;33m.\u001b[0m\u001b[0m_filelineno\u001b[0m \u001b[1;33m+=\u001b[0m \u001b[1;36m1\u001b[0m\u001b[1;33m\u001b[0m\u001b[1;33m\u001b[0m\u001b[0m\n",
      "\u001b[1;32m~\\Anaconda3\\lib\\fileinput.py\u001b[0m in \u001b[0;36m_readline\u001b[1;34m(self)\u001b[0m\n\u001b[0;32m    362\u001b[0m                     \u001b[0mself\u001b[0m\u001b[1;33m.\u001b[0m\u001b[0m_file\u001b[0m \u001b[1;33m=\u001b[0m \u001b[0mself\u001b[0m\u001b[1;33m.\u001b[0m\u001b[0m_openhook\u001b[0m\u001b[1;33m(\u001b[0m\u001b[0mself\u001b[0m\u001b[1;33m.\u001b[0m\u001b[0m_filename\u001b[0m\u001b[1;33m,\u001b[0m \u001b[0mself\u001b[0m\u001b[1;33m.\u001b[0m\u001b[0m_mode\u001b[0m\u001b[1;33m)\u001b[0m\u001b[1;33m\u001b[0m\u001b[1;33m\u001b[0m\u001b[0m\n\u001b[0;32m    363\u001b[0m                 \u001b[1;32melse\u001b[0m\u001b[1;33m:\u001b[0m\u001b[1;33m\u001b[0m\u001b[1;33m\u001b[0m\u001b[0m\n\u001b[1;32m--> 364\u001b[1;33m                     \u001b[0mself\u001b[0m\u001b[1;33m.\u001b[0m\u001b[0m_file\u001b[0m \u001b[1;33m=\u001b[0m \u001b[0mopen\u001b[0m\u001b[1;33m(\u001b[0m\u001b[0mself\u001b[0m\u001b[1;33m.\u001b[0m\u001b[0m_filename\u001b[0m\u001b[1;33m,\u001b[0m \u001b[0mself\u001b[0m\u001b[1;33m.\u001b[0m\u001b[0m_mode\u001b[0m\u001b[1;33m)\u001b[0m\u001b[1;33m\u001b[0m\u001b[1;33m\u001b[0m\u001b[0m\n\u001b[0m\u001b[0;32m    365\u001b[0m         \u001b[0mself\u001b[0m\u001b[1;33m.\u001b[0m\u001b[0m_readline\u001b[0m \u001b[1;33m=\u001b[0m \u001b[0mself\u001b[0m\u001b[1;33m.\u001b[0m\u001b[0m_file\u001b[0m\u001b[1;33m.\u001b[0m\u001b[0mreadline\u001b[0m  \u001b[1;31m# hide FileInput._readline\u001b[0m\u001b[1;33m\u001b[0m\u001b[1;33m\u001b[0m\u001b[0m\n\u001b[0;32m    366\u001b[0m         \u001b[1;32mreturn\u001b[0m \u001b[0mself\u001b[0m\u001b[1;33m.\u001b[0m\u001b[0m_readline\u001b[0m\u001b[1;33m(\u001b[0m\u001b[1;33m)\u001b[0m\u001b[1;33m\u001b[0m\u001b[1;33m\u001b[0m\u001b[0m\n",
      "\u001b[1;31mFileNotFoundError\u001b[0m: [Errno 2] No such file or directory: 'tests/ser/cpu/is.D.gnuO1.txt'"
     ]
    }
   ],
   "source": [
    "create_graphs_cpu_part1('tests/ser/cpu/is.D.gnuO1.txt',\n",
    "                       'tests/ser/cpu/is.D.gnuO2.txt',\n",
    "                       'tests/ser/cpu/is.D.gnuO3.txt',\n",
    "                       'tests/ser/cpu/is.D.intelO1.txt',\n",
    "                       'tests/ser/cpu/is.D.intelO2.txt',\n",
    "                       'tests/ser/cpu/is.D.intelO3.txt',\n",
    "                       1,\n",
    "                       \"time\",\n",
    "                        ybottom=0\n",
    "                       )"
   ]
  },
  {
   "cell_type": "code",
   "execution_count": 27,
   "metadata": {},
   "outputs": [],
   "source": [
    "def create_graphs_memory_part1(gnuO1,gnuO2,gnuO3,intelO1,intelO2,intelO3,repetitions,graph=\"absolute\",ybottom=0):\n",
    "    gnuO1 = read_file(gnuO1)[3:]\n",
    "    gnuO2 = read_file(gnuO2)[3:]\n",
    "    gnuO3 = read_file(gnuO3)[3:]\n",
    "    intelO1 = read_file(intelO1)[3:]\n",
    "    intelO2 = read_file(intelO2)[3:]\n",
    "    intelO3 = read_file(intelO3)[3:]\n",
    "    \n",
    "    gO1kb,gO1per = get_memory(gnuO1)\n",
    "    gO2kb,gO2per = get_memory(gnuO2)\n",
    "    gO3kb,gO3per = get_memory(gnuO3)\n",
    "\n",
    "    iO1kb,iO1per = get_memory(intelO1)\n",
    "    iO2kb,iO2per = get_memory(intelO2)\n",
    "    iO3kb,iO3per = get_memory(intelO3)\n",
    "    \n",
    "    x = np.arange(6)\n",
    "    \n",
    "    absolute = [gO1kb,gO2kb,gO3kb,iO1kb,iO2kb,iO3kb]\n",
    "    percentage = [gO1per,gO2per,gO3per,iO1per,iO2per,iO3per]\n",
    "\n",
    "    if(graph == \"absolute\"):\n",
    "        values = absolute\n",
    "    if(graph == \"percentage\"):\n",
    "        values = percentage\n",
    "        \n",
    "    fig, ax = plt.subplots()\n",
    "    plt.bar(x,values)\n",
    "    if(ybottom != 0):\n",
    "        ax.set_ylim(bottom=ybottom)\n",
    "    plt.xticks(x,(\"gnuO1\",\"gnuO2\",\"gnuO3\",\"intelO1\",\"intelO2\",\"intelO3\"))\n",
    "    plt.show()"
   ]
  },
  {
   "cell_type": "code",
   "execution_count": 31,
   "metadata": {},
   "outputs": [
    {
     "data": {
      "image/png": "[encoded data removed]",
      "text/plain": [
       "<Figure size 432x288 with 1 Axes>"
      ]
     },
     "metadata": {
      "needs_background": "light"
     },
     "output_type": "display_data"
    }
   ],
   "source": [
    "create_graphs_memory_part1('tests/ser/memory/mg.B.gnuO1.txt',\n",
    "                       'tests/ser/memory/mg.B.gnuO2.txt',\n",
    "                       'tests/ser/memory/mg.B.gnuO3.txt',\n",
    "                       'tests/ser/memory/mg.B.intelO1.txt',\n",
    "                       'tests/ser/memory/mg.B.intelO2.txt',\n",
    "                       'tests/ser/memory/mg.B.intelO3.txt',\n",
    "                       1,\n",
    "                       \"percentage\",\n",
    "                        ybottom=0\n",
    "                        )"
   ]
  },
  {
   "cell_type": "code",
   "execution_count": 32,
   "metadata": {},
   "outputs": [],
   "source": [
    "def create_graphs_io_part1(gnuO1,gnuO2,gnuO3,intelO1,intelO2,intelO3,repetitions,graph=\"tcp\",ybottom=0):\n",
    "    gnuO1 = read_file(gnuO1)[3:]\n",
    "    gnuO2 = read_file(gnuO2)[3:]\n",
    "    gnuO3 = read_file(gnuO3)[3:]\n",
    "    intelO1 = read_file(intelO1)[3:]\n",
    "    intelO2 = read_file(intelO2)[3:]\n",
    "    intelO3 = read_file(intelO3)[3:]\n",
    "    \n",
    "    gO1tcp,gO1disk = get_io(gnuO1)\n",
    "    gO2tcp,gO2disk = get_io(gnuO2)\n",
    "    gO3tcp,gO3disk = get_io(gnuO3)\n",
    "\n",
    "    iO1tcp,iO1disk = get_io(intelO1)\n",
    "    iO2tcp,iO2disk = get_io(intelO2)\n",
    "    iO3tcp,iO3disk = get_io(intelO3)\n",
    "    \n",
    "    x = np.arange(6)\n",
    "    \n",
    "    tcp = [gO1tcp,gO2tcp,gO3tcp,iO1tcp,iO2tcp,iO3tcp]\n",
    "    disk = [gO1disk,gO2disk,gO3disk,iO1disk,iO2disk,iO3disk]\n",
    "\n",
    "    if(graph == \"tcp\"):\n",
    "        values = tcp\n",
    "    if(graph == \"disk\"):\n",
    "        values = disk\n",
    "        \n",
    "    fig, ax = plt.subplots()\n",
    "    plt.bar(x,values)\n",
    "    if(ybottom != 0):\n",
    "        ax.set_ylim(bottom=ybottom)\n",
    "    plt.xticks(x,(\"gnuO1\",\"gnuO2\",\"gnuO3\",\"intelO1\",\"intelO2\",\"intelO3\"))\n",
    "    plt.show()"
   ]
  },
  {
   "cell_type": "code",
   "execution_count": 36,
   "metadata": {},
   "outputs": [
    {
     "data": {
      "image/png": "[encoded data removed]",
      "text/plain": [
       "<Figure size 432x288 with 1 Axes>"
      ]
     },
     "metadata": {
      "needs_background": "light"
     },
     "output_type": "display_data"
    }
   ],
   "source": [
    "create_graphs_io_part1('tests/ser/io/mg.B.gnuO1.txt',\n",
    "                       'tests/ser/io/mg.B.gnuO2.txt',\n",
    "                       'tests/ser/io/mg.B.gnuO3.txt',\n",
    "                       'tests/ser/io/mg.B.intelO1.txt',\n",
    "                       'tests/ser/io/mg.B.intelO2.txt',\n",
    "                       'tests/ser/io/mg.B.intelO3.txt',\n",
    "                       1,\n",
    "                       \"tcp\")"
   ]
  },
  {
   "cell_type": "code",
   "execution_count": 114,
   "metadata": {
    "scrolled": true
   },
   "outputs": [],
   "source": [
    "lines_cpu_gnuO1 = read_file('tests/omp/cpu/mg_D_gnuO1.txt')\n",
    "lines_cpu_gnuO2 = read_file('tests/omp/cpu/mg_D_gnuO2.txt')\n",
    "lines_cpu_gnuO3 = read_file('tests/omp/cpu/mg_D_gnuO3.txt')\n",
    "\n",
    "lines_memory_gnuO1 = read_file('tests/omp/memory/mg_D_gnuO1.txt')\n",
    "lines_memory_gnuO2 = read_file('tests/omp/memory/mg_D_gnuO2.txt')\n",
    "lines_memory_gnuO3 = read_file('tests/omp/memory/mg_D_gnuO3.txt')\n",
    "\n",
    "lines_io_gnuO1 = read_file('tests/omp/io/mg_D_gnuO1.txt')\n",
    "lines_io_gnuO2 = read_file('tests/omp/io/mg_D_gnuO2.txt')\n",
    "lines_io_gnuO3 = read_file('tests/omp/io/mg_D_gnuO3.txt')"
   ]
  },
  {
   "cell_type": "code",
   "execution_count": 117,
   "metadata": {
    "scrolled": false
   },
   "outputs": [
    {
     "name": "stdout",
     "output_type": "stream",
     "text": [
      "(849.0, 46.63590000000006, 0.0262)\n",
      "(832.0, 40.50200000000002, 0.0206)\n",
      "(844.0, 56.764199999999995, 0.010399999999999998)\n",
      "(29059060.0, 43.98)\n",
      "(29060160.0, 43.98)\n",
      "(28851848.0, 43.67)\n",
      "(200.09999999999997, 1600.8199999999997)\n",
      "(199.81, 1598.53)\n",
      "(197.03, 1576.25)\n"
     ]
    }
   ],
   "source": [
    "get_cpu_times(lines_cpu[3:],1)\n",
    "print(get_cpu(lines_cpu_gnuO1[3:],1))\n",
    "print(get_cpu(lines_cpu_gnuO2[3:],1))\n",
    "print(get_cpu(lines_cpu_gnuO3[3:],1))\n",
    "\n",
    "print(get_memory(lines_memory_gnuO1[3:]))\n",
    "print(get_memory(lines_memory_gnuO2[3:]))\n",
    "print(get_memory(lines_memory_gnuO3[3:]))\n",
    "\n",
    "print(get_io(lines_io_gnuO1[3:]))\n",
    "print(get_io(lines_io_gnuO2[3:]))\n",
    "print(get_io(lines_io_gnuO3[3:]))"
   ]
  },
  {
   "cell_type": "code",
   "execution_count": 67,
   "metadata": {},
   "outputs": [],
   "source": [
    "linesO3 = read_file('tests/omp/cpu/ep_D_gnuO3.txt')\n",
    "linesO2 = read_file('tests/omp/cpu/ep_D_gnuO2.txt')\n",
    "linesO1 = read_file('tests/omp/cpu/ep_D_gnuO1.txt')\n"
   ]
  },
  {
   "cell_type": "code",
   "execution_count": 68,
   "metadata": {},
   "outputs": [
    {
     "name": "stdout",
     "output_type": "stream",
     "text": [
      "741\n",
      "711\n",
      "938\n"
     ]
    }
   ],
   "source": [
    "O3 = [len(x) for x in get_tests(linesO3[3:])]\n",
    "O2 = [len(x) for x in get_tests(linesO2[3:])]\n",
    "O1 = [len(x) for x in get_tests(linesO1[3:])]\n",
    "\n",
    "print(sum(O1))\n",
    "print(sum(O2))\n",
    "print(sum(O3))"
   ]
  },
  {
   "cell_type": "code",
   "execution_count": null,
   "metadata": {},
   "outputs": [],
   "source": []
  },
  {
   "cell_type": "code",
   "execution_count": null,
   "metadata": {},
   "outputs": [],
   "source": []
  },
  {
   "cell_type": "code",
   "execution_count": null,
   "metadata": {},
   "outputs": [],
   "source": []
  }
 ],
 "metadata": {
  "kernelspec": {
   "display_name": "Python 3",
   "language": "python",
   "name": "python3"
  },
  "language_info": {
   "codemirror_mode": {
    "name": "ipython",
    "version": 3
   },
   "file_extension": ".py",
   "mimetype": "text/x-python",
   "name": "python",
   "nbconvert_exporter": "python",
   "pygments_lexer": "ipython3",
   "version": "3.7.4"
  }
 },
 "nbformat": 4,
 "nbformat_minor": 2
}
