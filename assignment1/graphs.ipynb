{
 "cells": [
  {
   "cell_type": "markdown",
   "metadata": {},
   "source": [
    "## Jupyter notebook to create graphs using data from different linux monitoring tools"
   ]
  },
  {
   "cell_type": "code",
   "execution_count": 135,
   "metadata": {},
   "outputs": [],
   "source": [
    "import matplotlib.pyplot as plt\n",
    "import fileinput\n",
    "import numpy as np"
   ]
  },
  {
   "cell_type": "code",
   "execution_count": 122,
   "metadata": {},
   "outputs": [],
   "source": [
    "def read_file(file_name):\n",
    "    lines = list()\n",
    "    for line in fileinput.input(file_name):\n",
    "        lines.append(line)\n",
    "    return lines"
   ]
  },
  {
   "cell_type": "code",
   "execution_count": 123,
   "metadata": {},
   "outputs": [],
   "source": [
    "def get_memory_values(lines):\n",
    "    kbmemused = list()\n",
    "    memusedpercent = list()\n",
    "    for i in lines:\n",
    "        _,_,_,kbmemused_,memusedpercent_,_,_,_,_ = i.rstrip().split()\n",
    "        kbmemused.append(float(kbmemused_))\n",
    "        memusedpercent.append(float(memusedpercent_))\n",
    "        \n",
    "    return (kbmemused,memusedpercent)"
   ]
  },
  {
   "cell_type": "code",
   "execution_count": 124,
   "metadata": {},
   "outputs": [],
   "source": [
    "def get_memory(lines):\n",
    "    kbmemused,memusedpercent = get_memory_values(lines)\n",
    "    return (max(kbmemused),max(memusedpercent))"
   ]
  },
  {
   "cell_type": "code",
   "execution_count": 125,
   "metadata": {},
   "outputs": [],
   "source": [
    "def get_cpu_times(lines,repetitions):\n",
    "    idle = list()\n",
    "    iowait = list()\n",
    "    for i in lines:\n",
    "        _,_,_,_,_,_,iowait_,_,idle_= i.rstrip().split()\n",
    "        iowait.append(float(iowait_))\n",
    "        idle.append(float(idle_))\n",
    "    \n",
    "    return (idle,iowait)"
   ]
  },
  {
   "cell_type": "code",
   "execution_count": 126,
   "metadata": {},
   "outputs": [],
   "source": [
    "def get_cpu(lines,repetitions):\n",
    "    idle,iowait = get_cpu_times(lines,repetitions)\n",
    "    return (float(len(lines))/repetitions,sum(idle)*0.01/repetitions,sum(iowait)*0.01/repetitions)\n",
    "    "
   ]
  },
  {
   "cell_type": "code",
   "execution_count": 127,
   "metadata": {},
   "outputs": [],
   "source": [
    "def get_io_values(lines):\n",
    "    tps = list()\n",
    "    breads = list()\n",
    "    bwrtns = list()\n",
    "    for i in lines:\n",
    "        _,_,tps_,_,_,breads_,bwrtns_ = i.rstrip().split()\n",
    "        tps.append(float(tps_))\n",
    "        breads.append(float(breads_))\n",
    "        bwrtns.append(float(bwrtns_))\n",
    "        \n",
    "    return (tps,breads,bwrtns)"
   ]
  },
  {
   "cell_type": "code",
   "execution_count": 128,
   "metadata": {},
   "outputs": [],
   "source": [
    "def get_io(lines):\n",
    "    tps,breads,bwrtns = get_io_values(lines)\n",
    "    return (sum(tps),sum(breads) + sum(bwrtns))"
   ]
  },
  {
   "cell_type": "code",
   "execution_count": 145,
   "metadata": {},
   "outputs": [],
   "source": [
    "def create_graphs_cpu_part1(gnuO1,gnuO2,gnuO3,intelO1,intelO2,intelO3,repetitions,graph=\"time\"):\n",
    "    gnuO1 = read_file(gnuO1)[3:]\n",
    "    gnuO2 = read_file(gnuO2)[3:]\n",
    "    gnuO3 = read_file(gnuO3)[3:]\n",
    "    intelO1 = read_file(intelO1)[3:]\n",
    "    intelO2 = read_file(intelO2)[3:]\n",
    "    intelO3 = read_file(intelO3)[3:]\n",
    "    \n",
    "    gO1time,gO1idle,gO1iowait = get_cpu(gnuO1,repetitions)\n",
    "    gO2time,gO2idle,gO2iowait = get_cpu(gnuO2,repetitions)\n",
    "    gO3time,gO3idle,gO3iowait = get_cpu(gnuO3,repetitions)\n",
    "    \n",
    "    \n",
    "    iO1time,iO1idle,iO1iowait = get_cpu(intelO1,repetitions)\n",
    "    iO2time,iO2idle,iO2iowait = get_cpu(intelO2,repetitions)\n",
    "    iO3time,iO3idle,iO3iowait = get_cpu(intelO3,repetitions)\n",
    "\n",
    "    \n",
    "    \n",
    "    x = np.arange(6)\n",
    "    \n",
    "    \n",
    "    time = [gO1time,gO2time,gO3time,iO1time,iO2time,iO3time]\n",
    "    idle = [gO1idle,gO2idle,gO3idle,iO1idle,iO2idle,iO3idle]\n",
    "    iowait = [gO1iowait,gO2iowait,gO3iowait,iO1iowait,iO2iowait,iO3iowait]\n",
    "\n",
    "    if(graph == \"time\"):\n",
    "        values = time\n",
    "    if(graph == \"idle\"):\n",
    "        values = idle\n",
    "    if(graph == \"iowait\"):\n",
    "        values = iowait\n",
    "        \n",
    "    fig, ax = plt.subplots()\n",
    "    plt.bar(x,values)\n",
    "    plt.xticks(x,(\"gnuO1\",\"gnuO2\",\"gnuO3\",\"intelO1\",\"intelO2\",\"intelO3\"))\n",
    "    plt.show()\n",
    "    "
   ]
  },
  {
   "cell_type": "code",
   "execution_count": 149,
   "metadata": {},
   "outputs": [
    {
     "data": {
      "image/png": "[encoded data removed]",
      "text/plain": [
       "<Figure size 432x288 with 1 Axes>"
      ]
     },
     "metadata": {
      "needs_background": "light"
     },
     "output_type": "display_data"
    }
   ],
   "source": [
    "create_graphs_cpu_part1('tests/omp/cpu/mg_D_gnuO1.txt',\n",
    "                       'tests/omp/cpu/mg_D_gnuO2.txt',\n",
    "                       'tests/omp/cpu/mg_D_gnuO3.txt',\n",
    "                       'tests/omp/cpu/mg_D_gnuO1.txt',\n",
    "                       'tests/omp/cpu/mg_D_gnuO2.txt',\n",
    "                       'tests/omp/cpu/mg_D_gnuO3.txt',\n",
    "                       1,\n",
    "                       \"iowait\")"
   ]
  },
  {
   "cell_type": "code",
   "execution_count": 150,
   "metadata": {},
   "outputs": [],
   "source": [
    "def create_graphs_memory_part1(gnuO1,gnuO2,gnuO3,intelO1,intelO2,intelO3,repetitions,graph=\"absolute\"):\n",
    "    gnuO1 = read_file(gnuO1)[3:]\n",
    "    gnuO2 = read_file(gnuO2)[3:]\n",
    "    gnuO3 = read_file(gnuO3)[3:]\n",
    "    intelO1 = read_file(intelO1)[3:]\n",
    "    intelO2 = read_file(intelO2)[3:]\n",
    "    intelO3 = read_file(intelO3)[3:]\n",
    "    \n",
    "    gO1kb,gO1per = get_memory(gnuO1)\n",
    "    gO2kb,gO2per = get_memory(gnuO2)\n",
    "    gO3kb,gO3per = get_memory(gnuO3)\n",
    "\n",
    "    iO1kb,iO1per = get_memory(intelO1)\n",
    "    iO2kb,iO2per = get_memory(intelO2)\n",
    "    iO3kb,iO3per = get_memory(intelO3)\n",
    "    \n",
    "    x = np.arange(6)\n",
    "    \n",
    "    absolute = [gO1kb,gO2kb,gO3kb,iO1kb,iO2kb,iO3kb]\n",
    "    percentage = [gO1per,gO2per,gO3per,iO1per,iO2per,iO3per]\n",
    "\n",
    "    if(graph == \"absolute\"):\n",
    "        values = absolute\n",
    "    if(graph == \"percentage\"):\n",
    "        values = percentage\n",
    "        \n",
    "    fig, ax = plt.subplots()\n",
    "    plt.bar(x,values)\n",
    "    plt.xticks(x,(\"gnuO1\",\"gnuO2\",\"gnuO3\",\"intelO1\",\"intelO2\",\"intelO3\"))\n",
    "    plt.show()"
   ]
  },
  {
   "cell_type": "code",
   "execution_count": 152,
   "metadata": {},
   "outputs": [
    {
     "data": {
      "image/png": "[encoded data removed]",
      "text/plain": [
       "<Figure size 432x288 with 1 Axes>"
      ]
     },
     "metadata": {
      "needs_background": "light"
     },
     "output_type": "display_data"
    }
   ],
   "source": [
    "create_graphs_memory_part1('tests/omp/memory/mg_D_gnuO1.txt',\n",
    "                       'tests/omp/memory/mg_D_gnuO2.txt',\n",
    "                       'tests/omp/memory/mg_D_gnuO3.txt',\n",
    "                       'tests/omp/memory/mg_D_gnuO1.txt',\n",
    "                       'tests/omp/memory/mg_D_gnuO2.txt',\n",
    "                       'tests/omp/memory/mg_D_gnuO3.txt',\n",
    "                       1,\n",
    "                       \"percentage\")"
   ]
  },
  {
   "cell_type": "code",
   "execution_count": 154,
   "metadata": {},
   "outputs": [],
   "source": [
    "def create_graphs_io_part1(gnuO1,gnuO2,gnuO3,intelO1,intelO2,intelO3,repetitions,graph=\"tcp\"):\n",
    "    gnuO1 = read_file(gnuO1)[3:]\n",
    "    gnuO2 = read_file(gnuO2)[3:]\n",
    "    gnuO3 = read_file(gnuO3)[3:]\n",
    "    intelO1 = read_file(intelO1)[3:]\n",
    "    intelO2 = read_file(intelO2)[3:]\n",
    "    intelO3 = read_file(intelO3)[3:]\n",
    "    \n",
    "    gO1tcp,gO1disk = get_io(gnuO1)\n",
    "    gO2tcp,gO2disk = get_io(gnuO2)\n",
    "    gO3tcp,gO3disk = get_io(gnuO3)\n",
    "\n",
    "    iO1tcp,iO1disk = get_io(intelO1)\n",
    "    iO2tcp,iO2disk = get_io(intelO2)\n",
    "    iO3tcp,iO3disk = get_io(intelO3)\n",
    "    \n",
    "    x = np.arange(6)\n",
    "    \n",
    "    tcp = [gO1tcp,gO2tcp,gO3tcp,iO1tcp,iO2tcp,iO3tcp]\n",
    "    disk = [gO1disk,gO2disk,gO3disk,iO1disk,iO2disk,iO3disk]\n",
    "\n",
    "    if(graph == \"tcp\"):\n",
    "        values = tcp\n",
    "    if(graph == \"disk\"):\n",
    "        values = disk\n",
    "        \n",
    "    fig, ax = plt.subplots()\n",
    "    plt.bar(x,values)\n",
    "    plt.xticks(x,(\"gnuO1\",\"gnuO2\",\"gnuO3\",\"intelO1\",\"intelO2\",\"intelO3\"))\n",
    "    plt.show()"
   ]
  },
  {
   "cell_type": "code",
   "execution_count": 157,
   "metadata": {},
   "outputs": [
    {
     "data": {
      "image/png": "[encoded data removed]",
      "text/plain": [
       "<Figure size 432x288 with 1 Axes>"
      ]
     },
     "metadata": {
      "needs_background": "light"
     },
     "output_type": "display_data"
    }
   ],
   "source": [
    "create_graphs_io_part1('tests/omp/io/mg_D_gnuO1.txt',\n",
    "                       'tests/omp/io/mg_D_gnuO2.txt',\n",
    "                       'tests/omp/io/mg_D_gnuO3.txt',\n",
    "                       'tests/omp/io/mg_D_gnuO1.txt',\n",
    "                       'tests/omp/io/mg_D_gnuO2.txt',\n",
    "                       'tests/omp/io/mg_D_gnuO3.txt',\n",
    "                       1,\n",
    "                       \"disk\")"
   ]
  },
  {
   "cell_type": "code",
   "execution_count": 114,
   "metadata": {
    "scrolled": true
   },
   "outputs": [],
   "source": [
    "lines_cpu_gnuO1 = read_file('tests/omp/cpu/mg_D_gnuO1.txt')\n",
    "lines_cpu_gnuO2 = read_file('tests/omp/cpu/mg_D_gnuO2.txt')\n",
    "lines_cpu_gnuO3 = read_file('tests/omp/cpu/mg_D_gnuO3.txt')\n",
    "\n",
    "lines_memory_gnuO1 = read_file('tests/omp/memory/mg_D_gnuO1.txt')\n",
    "lines_memory_gnuO2 = read_file('tests/omp/memory/mg_D_gnuO2.txt')\n",
    "lines_memory_gnuO3 = read_file('tests/omp/memory/mg_D_gnuO3.txt')\n",
    "\n",
    "lines_io_gnuO1 = read_file('tests/omp/io/mg_D_gnuO1.txt')\n",
    "lines_io_gnuO2 = read_file('tests/omp/io/mg_D_gnuO2.txt')\n",
    "lines_io_gnuO3 = read_file('tests/omp/io/mg_D_gnuO3.txt')"
   ]
  },
  {
   "cell_type": "code",
   "execution_count": 117,
   "metadata": {
    "scrolled": false
   },
   "outputs": [
    {
     "name": "stdout",
     "output_type": "stream",
     "text": [
      "(849.0, 46.63590000000006, 0.0262)\n",
      "(832.0, 40.50200000000002, 0.0206)\n",
      "(844.0, 56.764199999999995, 0.010399999999999998)\n",
      "(29059060.0, 43.98)\n",
      "(29060160.0, 43.98)\n",
      "(28851848.0, 43.67)\n",
      "(200.09999999999997, 1600.8199999999997)\n",
      "(199.81, 1598.53)\n",
      "(197.03, 1576.25)\n"
     ]
    }
   ],
   "source": [
    "get_cpu_times(lines_cpu[3:],1)\n",
    "print(get_cpu(lines_cpu_gnuO1[3:],1))\n",
    "print(get_cpu(lines_cpu_gnuO2[3:],1))\n",
    "print(get_cpu(lines_cpu_gnuO3[3:],1))\n",
    "\n",
    "print(get_memory(lines_memory_gnuO1[3:]))\n",
    "print(get_memory(lines_memory_gnuO2[3:]))\n",
    "print(get_memory(lines_memory_gnuO3[3:]))\n",
    "\n",
    "print(get_io(lines_io_gnuO1[3:]))\n",
    "print(get_io(lines_io_gnuO2[3:]))\n",
    "print(get_io(lines_io_gnuO3[3:]))"
   ]
  },
  {
   "cell_type": "code",
   "execution_count": null,
   "metadata": {},
   "outputs": [],
   "source": []
  },
  {
   "cell_type": "code",
   "execution_count": null,
   "metadata": {},
   "outputs": [],
   "source": []
  },
  {
   "cell_type": "code",
   "execution_count": null,
   "metadata": {},
   "outputs": [],
   "source": []
  },
  {
   "cell_type": "code",
   "execution_count": null,
   "metadata": {},
   "outputs": [],
   "source": []
  },
  {
   "cell_type": "code",
   "execution_count": null,
   "metadata": {},
   "outputs": [],
   "source": []
  }
 ],
 "metadata": {
  "kernelspec": {
   "display_name": "Python 3",
   "language": "python",
   "name": "python3"
  },
  "language_info": {
   "codemirror_mode": {
    "name": "ipython",
    "version": 3
   },
   "file_extension": ".py",
   "mimetype": "text/x-python",
   "name": "python",
   "nbconvert_exporter": "python",
   "pygments_lexer": "ipython3",
   "version": "3.7.4"
  }
 },
 "nbformat": 4,
 "nbformat_minor": 2
}
